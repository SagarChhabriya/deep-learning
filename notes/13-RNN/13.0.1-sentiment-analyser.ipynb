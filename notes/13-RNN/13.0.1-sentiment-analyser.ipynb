{
 "cells": [
  {
   "cell_type": "code",
   "execution_count": 1,
   "id": "543fcc8f",
   "metadata": {},
   "outputs": [],
   "source": [
    "import numpy as np\n",
    "\n",
    "docs = [\n",
    "    'go thunder hawks',\n",
    "    'thunder thunder',\n",
    "    'let’s go team',\n",
    "    'win it hawks win it',\n",
    "    'defense defense',\n",
    "    'mvp mvp',\n",
    "    'hawks for the win',\n",
    "    'slam dunk thunder',\n",
    "    'play hard play smart',\n",
    "    'rise up thunder hawks'\n",
    "]"
   ]
  },
  {
   "cell_type": "code",
   "execution_count": null,
   "id": "e5dc6c13",
   "metadata": {},
   "outputs": [],
   "source": [
    "from tensorflow.keras.preprocessing.text import  Tokenizer\n",
    "tokenizer = Tokenizer()"
   ]
  },
  {
   "cell_type": "code",
   "execution_count": 3,
   "id": "7107fe40",
   "metadata": {},
   "outputs": [],
   "source": [
    "tokenizer.fit_on_texts(docs)"
   ]
  },
  {
   "cell_type": "code",
   "execution_count": 5,
   "id": "efe2f816",
   "metadata": {},
   "outputs": [
    {
     "data": {
      "text/plain": [
       "[[4, 1, 2],\n",
       " [1, 1],\n",
       " [9, 4, 10],\n",
       " [3, 5, 2, 3, 5],\n",
       " [6, 6],\n",
       " [7, 7],\n",
       " [2, 11, 12, 3],\n",
       " [13, 14, 1],\n",
       " [8, 15, 8, 16],\n",
       " [17, 18, 1, 2]]"
      ]
     },
     "execution_count": 5,
     "metadata": {},
     "output_type": "execute_result"
    }
   ],
   "source": [
    "sequences = tokenizer.texts_to_sequences(docs)\n",
    "sequences "
   ]
  },
  {
   "cell_type": "code",
   "execution_count": null,
   "id": "fb8179e6",
   "metadata": {},
   "outputs": [
    {
     "data": {
      "text/plain": [
       "array([[ 4,  1,  2,  0,  0],\n",
       "       [ 1,  1,  0,  0,  0],\n",
       "       [ 9,  4, 10,  0,  0],\n",
       "       [ 3,  5,  2,  3,  5],\n",
       "       [ 6,  6,  0,  0,  0],\n",
       "       [ 7,  7,  0,  0,  0],\n",
       "       [ 2, 11, 12,  3,  0],\n",
       "       [13, 14,  1,  0,  0],\n",
       "       [ 8, 15,  8, 16,  0],\n",
       "       [17, 18,  1,  2,  0]], dtype=int32)"
      ]
     },
     "execution_count": 6,
     "metadata": {},
     "output_type": "execute_result"
    }
   ],
   "source": [
    "from keras.utils import  pad_sequences\n",
    "sequences = pad_sequences(sequences, padding='post')\n",
    "sequences"
   ]
  },
  {
   "cell_type": "code",
   "execution_count": 8,
   "id": "6599cd98",
   "metadata": {},
   "outputs": [
    {
     "name": "stderr",
     "output_type": "stream",
     "text": [
      "d:\\Ao\\Code\\AI\\deep-learning\\venv\\Lib\\site-packages\\keras\\src\\layers\\core\\embedding.py:90: UserWarning: Argument `input_length` is deprecated. Just remove it.\n",
      "  warnings.warn(\n"
     ]
    }
   ],
   "source": [
    "from tensorflow.keras import  Sequential\n",
    "from keras.layers import Embedding, Dense, SimpleRNN, Flatten\n",
    "\n",
    "model = Sequential()\n",
    "model.add(Embedding(17, output_dim=2, input_length=5))"
   ]
  }
 ],
 "metadata": {
  "kernelspec": {
   "display_name": "venv",
   "language": "python",
   "name": "python3"
  },
  "language_info": {
   "codemirror_mode": {
    "name": "ipython",
    "version": 3
   },
   "file_extension": ".py",
   "mimetype": "text/x-python",
   "name": "python",
   "nbconvert_exporter": "python",
   "pygments_lexer": "ipython3",
   "version": "3.12.0"
  }
 },
 "nbformat": 4,
 "nbformat_minor": 5
}
