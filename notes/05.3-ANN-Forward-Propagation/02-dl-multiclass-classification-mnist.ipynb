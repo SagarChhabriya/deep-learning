{
 "cells": [
  {
   "cell_type": "code",
   "execution_count": 1,
   "id": "21c2a513",
   "metadata": {
    "_cell_guid": "b1076dfc-b9ad-4769-8c92-a6c4dae69d19",
    "_uuid": "8f2839f25d086af736a60e9eeb907d3b93b6e0e5",
    "execution": {
     "iopub.execute_input": "2025-04-04T10:16:43.919086Z",
     "iopub.status.busy": "2025-04-04T10:16:43.918602Z",
     "iopub.status.idle": "2025-04-04T10:16:45.135900Z",
     "shell.execute_reply": "2025-04-04T10:16:45.134739Z"
    },
    "papermill": {
     "duration": 1.225992,
     "end_time": "2025-04-04T10:16:45.138039",
     "exception": false,
     "start_time": "2025-04-04T10:16:43.912047",
     "status": "completed"
    },
    "tags": []
   },
   "outputs": [],
   "source": [
    "# This Python 3 environment comes with many helpful analytics libraries installed\n",
    "# It is defined by the kaggle/python Docker image: https://github.com/kaggle/docker-python\n",
    "# For example, here's several helpful packages to load\n",
    "\n",
    "import numpy as np # linear algebra\n",
    "import pandas as pd # data processing, CSV file I/O (e.g. pd.read_csv)\n",
    "\n",
    "# Input data files are available in the read-only \"../input/\" directory\n",
    "# For example, running this (by clicking run or pressing Shift+Enter) will list all files under the input directory\n",
    "\n",
    "import os\n",
    "for dirname, _, filenames in os.walk('/kaggle/input'):\n",
    "    for filename in filenames:\n",
    "        print(os.path.join(dirname, filename))\n",
    "\n",
    "# You can write up to 20GB to the current directory (/kaggle/working/) that gets preserved as output when you create a version using \"Save & Run All\" \n",
    "# You can also write temporary files to /kaggle/temp/, but they won't be saved outside of the current session"
   ]
  },
  {
   "cell_type": "markdown",
   "id": "80737104",
   "metadata": {
    "papermill": {
     "duration": 0.005387,
     "end_time": "2025-04-04T10:16:45.148509",
     "exception": false,
     "start_time": "2025-04-04T10:16:45.143122",
     "status": "completed"
    },
    "tags": []
   },
   "source": [
    "### Step 1: Import Libraries and Data"
   ]
  },
  {
   "cell_type": "code",
   "execution_count": 2,
   "id": "f5888491",
   "metadata": {
    "execution": {
     "iopub.execute_input": "2025-04-04T10:16:45.159736Z",
     "iopub.status.busy": "2025-04-04T10:16:45.159187Z",
     "iopub.status.idle": "2025-04-04T10:17:03.760505Z",
     "shell.execute_reply": "2025-04-04T10:17:03.759150Z"
    },
    "papermill": {
     "duration": 18.609399,
     "end_time": "2025-04-04T10:17:03.762590",
     "exception": false,
     "start_time": "2025-04-04T10:16:45.153191",
     "status": "completed"
    },
    "tags": []
   },
   "outputs": [],
   "source": [
    "import tensorflow\n",
    "from tensorflow import keras\n",
    "from tensorflow.keras import Sequential\n",
    "from tensorflow.keras.layers import Dense, Flatten"
   ]
  },
  {
   "cell_type": "code",
   "execution_count": 3,
   "id": "b84fc18f",
   "metadata": {
    "execution": {
     "iopub.execute_input": "2025-04-04T10:17:03.774161Z",
     "iopub.status.busy": "2025-04-04T10:17:03.773494Z",
     "iopub.status.idle": "2025-04-04T10:17:05.680395Z",
     "shell.execute_reply": "2025-04-04T10:17:05.679307Z"
    },
    "papermill": {
     "duration": 1.914578,
     "end_time": "2025-04-04T10:17:05.682312",
     "exception": false,
     "start_time": "2025-04-04T10:17:03.767734",
     "status": "completed"
    },
    "tags": []
   },
   "outputs": [
    {
     "name": "stdout",
     "output_type": "stream",
     "text": [
      "Downloading data from https://storage.googleapis.com/tensorflow/tf-keras-datasets/mnist.npz\n",
      "\u001b[1m11490434/11490434\u001b[0m \u001b[32m━━━━━━━━━━━━━━━━━━━━\u001b[0m\u001b[37m\u001b[0m \u001b[1m1s\u001b[0m 0us/step\n"
     ]
    }
   ],
   "source": [
    "(X_train,y_train), (X_test,y_test) = keras.datasets.mnist.load_data()\n",
    "# Keras library has mnist dataset and its already splitted  "
   ]
  },
  {
   "cell_type": "code",
   "execution_count": 4,
   "id": "af75ed91",
   "metadata": {
    "execution": {
     "iopub.execute_input": "2025-04-04T10:17:05.695313Z",
     "iopub.status.busy": "2025-04-04T10:17:05.694973Z",
     "iopub.status.idle": "2025-04-04T10:17:06.049342Z",
     "shell.execute_reply": "2025-04-04T10:17:06.047978Z"
    },
    "papermill": {
     "duration": 0.362864,
     "end_time": "2025-04-04T10:17:06.051276",
     "exception": false,
     "start_time": "2025-04-04T10:17:05.688412",
     "status": "completed"
    },
    "tags": []
   },
   "outputs": [
    {
     "data": {
      "text/plain": [
       "<matplotlib.image.AxesImage at 0x78678ac7c820>"
      ]
     },
     "execution_count": 4,
     "metadata": {},
     "output_type": "execute_result"
    },
    {
     "data": {
      "image/png": "[encoded data removed]",
      "text/plain": [
       "<Figure size 640x480 with 1 Axes>"
      ]
     },
     "metadata": {},
     "output_type": "display_data"
    }
   ],
   "source": [
    "import matplotlib.pyplot as plt\n",
    "plt.imshow(X_train[0])"
   ]
  },
  {
   "cell_type": "markdown",
   "id": "80de0840",
   "metadata": {
    "papermill": {
     "duration": 0.005874,
     "end_time": "2025-04-04T10:17:06.063604",
     "exception": false,
     "start_time": "2025-04-04T10:17:06.057730",
     "status": "completed"
    },
    "tags": []
   },
   "source": [
    "### Squeeze the input values to range: 0-1"
   ]
  },
  {
   "cell_type": "code",
   "execution_count": 5,
   "id": "c9b31dd6",
   "metadata": {
    "execution": {
     "iopub.execute_input": "2025-04-04T10:17:06.077019Z",
     "iopub.status.busy": "2025-04-04T10:17:06.076633Z",
     "iopub.status.idle": "2025-04-04T10:17:06.326466Z",
     "shell.execute_reply": "2025-04-04T10:17:06.325183Z"
    },
    "papermill": {
     "duration": 0.25887,
     "end_time": "2025-04-04T10:17:06.328500",
     "exception": false,
     "start_time": "2025-04-04T10:17:06.069630",
     "status": "completed"
    },
    "tags": []
   },
   "outputs": [],
   "source": [
    "X_train = X_train/255 # total values 255, divide each value by 255\n",
    "X_test = X_test/255"
   ]
  },
  {
   "cell_type": "markdown",
   "id": "2b6ffd13",
   "metadata": {
    "papermill": {
     "duration": 0.006104,
     "end_time": "2025-04-04T10:17:06.341133",
     "exception": false,
     "start_time": "2025-04-04T10:17:06.335029",
     "status": "completed"
    },
    "tags": []
   },
   "source": [
    "### Step 2: Define Layers"
   ]
  },
  {
   "cell_type": "code",
   "execution_count": 6,
   "id": "1935373d",
   "metadata": {
    "execution": {
     "iopub.execute_input": "2025-04-04T10:17:06.356780Z",
     "iopub.status.busy": "2025-04-04T10:17:06.356270Z",
     "iopub.status.idle": "2025-04-04T10:17:06.461101Z",
     "shell.execute_reply": "2025-04-04T10:17:06.459763Z"
    },
    "papermill": {
     "duration": 0.114272,
     "end_time": "2025-04-04T10:17:06.463129",
     "exception": false,
     "start_time": "2025-04-04T10:17:06.348857",
     "status": "completed"
    },
    "tags": []
   },
   "outputs": [
    {
     "name": "stderr",
     "output_type": "stream",
     "text": [
      "/usr/local/lib/python3.10/dist-packages/keras/src/layers/reshaping/flatten.py:37: UserWarning: Do not pass an `input_shape`/`input_dim` argument to a layer. When using Sequential models, prefer using an `Input(shape)` object as the first layer in the model instead.\n",
      "  super().__init__(**kwargs)\n"
     ]
    }
   ],
   "source": [
    "model = Sequential()\n",
    "\n",
    "model.add(Flatten(input_shape=(28,28))) # flatten the 2D data: 28 x 28 to 1D: 784\n",
    "model.add(Dense(128, activation='relu')) # hidden layer with 128 bias terms/percpetrons\n",
    "model.add(Dense(10,activation='softmax')) # softmax for multiclass classification"
   ]
  },
  {
   "cell_type": "code",
   "execution_count": 7,
   "id": "6452a4fa",
   "metadata": {
    "execution": {
     "iopub.execute_input": "2025-04-04T10:17:06.477256Z",
     "iopub.status.busy": "2025-04-04T10:17:06.476902Z",
     "iopub.status.idle": "2025-04-04T10:17:06.495970Z",
     "shell.execute_reply": "2025-04-04T10:17:06.494834Z"
    },
    "papermill": {
     "duration": 0.028519,
     "end_time": "2025-04-04T10:17:06.498154",
     "exception": false,
     "start_time": "2025-04-04T10:17:06.469635",
     "status": "completed"
    },
    "tags": []
   },
   "outputs": [
    {
     "data": {
      "text/html": [
       "<pre style=\"white-space:pre;overflow-x:auto;line-height:normal;font-family:Menlo,'DejaVu Sans Mono',consolas,'Courier New',monospace\"><span style=\"font-weight: bold\">Model: \"sequential\"</span>\n",
       "</pre>\n"
      ],
      "text/plain": [
       "\u001b[1mModel: \"sequential\"\u001b[0m\n"
      ]
     },
     "metadata": {},
     "output_type": "display_data"
    },
    {
     "data": {
      "text/html": [
       "<pre style=\"white-space:pre;overflow-x:auto;line-height:normal;font-family:Menlo,'DejaVu Sans Mono',consolas,'Courier New',monospace\">┏━━━━━━━━━━━━━━━━━━━━━━━━━━━━━━━━━━━━━━┳━━━━━━━━━━━━━━━━━━━━━━━━━━━━━┳━━━━━━━━━━━━━━━━━┓\n",
       "┃<span style=\"font-weight: bold\"> Layer (type)                         </span>┃<span style=\"font-weight: bold\"> Output Shape                </span>┃<span style=\"font-weight: bold\">         Param # </span>┃\n",
       "┡━━━━━━━━━━━━━━━━━━━━━━━━━━━━━━━━━━━━━━╇━━━━━━━━━━━━━━━━━━━━━━━━━━━━━╇━━━━━━━━━━━━━━━━━┩\n",
       "│ flatten (<span style=\"color: #0087ff; text-decoration-color: #0087ff\">Flatten</span>)                    │ (<span style=\"color: #00d7ff; text-decoration-color: #00d7ff\">None</span>, <span style=\"color: #00af00; text-decoration-color: #00af00\">784</span>)                 │               <span style=\"color: #00af00; text-decoration-color: #00af00\">0</span> │\n",
       "├──────────────────────────────────────┼─────────────────────────────┼─────────────────┤\n",
       "│ dense (<span style=\"color: #0087ff; text-decoration-color: #0087ff\">Dense</span>)                        │ (<span style=\"color: #00d7ff; text-decoration-color: #00d7ff\">None</span>, <span style=\"color: #00af00; text-decoration-color: #00af00\">128</span>)                 │         <span style=\"color: #00af00; text-decoration-color: #00af00\">100,480</span> │\n",
       "├──────────────────────────────────────┼─────────────────────────────┼─────────────────┤\n",
       "│ dense_1 (<span style=\"color: #0087ff; text-decoration-color: #0087ff\">Dense</span>)                      │ (<span style=\"color: #00d7ff; text-decoration-color: #00d7ff\">None</span>, <span style=\"color: #00af00; text-decoration-color: #00af00\">10</span>)                  │           <span style=\"color: #00af00; text-decoration-color: #00af00\">1,290</span> │\n",
       "└──────────────────────────────────────┴─────────────────────────────┴─────────────────┘\n",
       "</pre>\n"
      ],
      "text/plain": [
       "┏━━━━━━━━━━━━━━━━━━━━━━━━━━━━━━━━━━━━━━┳━━━━━━━━━━━━━━━━━━━━━━━━━━━━━┳━━━━━━━━━━━━━━━━━┓\n",
       "┃\u001b[1m \u001b[0m\u001b[1mLayer (type)                        \u001b[0m\u001b[1m \u001b[0m┃\u001b[1m \u001b[0m\u001b[1mOutput Shape               \u001b[0m\u001b[1m \u001b[0m┃\u001b[1m \u001b[0m\u001b[1m        Param #\u001b[0m\u001b[1m \u001b[0m┃\n",
       "┡━━━━━━━━━━━━━━━━━━━━━━━━━━━━━━━━━━━━━━╇━━━━━━━━━━━━━━━━━━━━━━━━━━━━━╇━━━━━━━━━━━━━━━━━┩\n",
       "│ flatten (\u001b[38;5;33mFlatten\u001b[0m)                    │ (\u001b[38;5;45mNone\u001b[0m, \u001b[38;5;34m784\u001b[0m)                 │               \u001b[38;5;34m0\u001b[0m │\n",
       "├──────────────────────────────────────┼─────────────────────────────┼─────────────────┤\n",
       "│ dense (\u001b[38;5;33mDense\u001b[0m)                        │ (\u001b[38;5;45mNone\u001b[0m, \u001b[38;5;34m128\u001b[0m)                 │         \u001b[38;5;34m100,480\u001b[0m │\n",
       "├──────────────────────────────────────┼─────────────────────────────┼─────────────────┤\n",
       "│ dense_1 (\u001b[38;5;33mDense\u001b[0m)                      │ (\u001b[38;5;45mNone\u001b[0m, \u001b[38;5;34m10\u001b[0m)                  │           \u001b[38;5;34m1,290\u001b[0m │\n",
       "└──────────────────────────────────────┴─────────────────────────────┴─────────────────┘\n"
      ]
     },
     "metadata": {},
     "output_type": "display_data"
    },
    {
     "data": {
      "text/html": [
       "<pre style=\"white-space:pre;overflow-x:auto;line-height:normal;font-family:Menlo,'DejaVu Sans Mono',consolas,'Courier New',monospace\"><span style=\"font-weight: bold\"> Total params: </span><span style=\"color: #00af00; text-decoration-color: #00af00\">101,770</span> (397.54 KB)\n",
       "</pre>\n"
      ],
      "text/plain": [
       "\u001b[1m Total params: \u001b[0m\u001b[38;5;34m101,770\u001b[0m (397.54 KB)\n"
      ]
     },
     "metadata": {},
     "output_type": "display_data"
    },
    {
     "data": {
      "text/html": [
       "<pre style=\"white-space:pre;overflow-x:auto;line-height:normal;font-family:Menlo,'DejaVu Sans Mono',consolas,'Courier New',monospace\"><span style=\"font-weight: bold\"> Trainable params: </span><span style=\"color: #00af00; text-decoration-color: #00af00\">101,770</span> (397.54 KB)\n",
       "</pre>\n"
      ],
      "text/plain": [
       "\u001b[1m Trainable params: \u001b[0m\u001b[38;5;34m101,770\u001b[0m (397.54 KB)\n"
      ]
     },
     "metadata": {},
     "output_type": "display_data"
    },
    {
     "data": {
      "text/html": [
       "<pre style=\"white-space:pre;overflow-x:auto;line-height:normal;font-family:Menlo,'DejaVu Sans Mono',consolas,'Courier New',monospace\"><span style=\"font-weight: bold\"> Non-trainable params: </span><span style=\"color: #00af00; text-decoration-color: #00af00\">0</span> (0.00 B)\n",
       "</pre>\n"
      ],
      "text/plain": [
       "\u001b[1m Non-trainable params: \u001b[0m\u001b[38;5;34m0\u001b[0m (0.00 B)\n"
      ]
     },
     "metadata": {},
     "output_type": "display_data"
    }
   ],
   "source": [
    "model.summary()"
   ]
  },
  {
   "cell_type": "markdown",
   "id": "b7e38edf",
   "metadata": {
    "papermill": {
     "duration": 0.007498,
     "end_time": "2025-04-04T10:17:06.512597",
     "exception": false,
     "start_time": "2025-04-04T10:17:06.505099",
     "status": "completed"
    },
    "tags": []
   },
   "source": [
    "### Step 3: Compile the Model"
   ]
  },
  {
   "cell_type": "code",
   "execution_count": 8,
   "id": "a1143aee",
   "metadata": {
    "execution": {
     "iopub.execute_input": "2025-04-04T10:17:06.527609Z",
     "iopub.status.busy": "2025-04-04T10:17:06.527207Z",
     "iopub.status.idle": "2025-04-04T10:17:06.541500Z",
     "shell.execute_reply": "2025-04-04T10:17:06.540302Z"
    },
    "papermill": {
     "duration": 0.024221,
     "end_time": "2025-04-04T10:17:06.543660",
     "exception": false,
     "start_time": "2025-04-04T10:17:06.519439",
     "status": "completed"
    },
    "tags": []
   },
   "outputs": [],
   "source": [
    "model.compile(optimizer='Adam',loss='sparse_categorical_crossentropy', metrics=['accuracy'])\n",
    "# categorical_crossentropy: requires data in one hot encoded form\n",
    "# sparse_categorical_crossentropy, deal without encoding the data"
   ]
  },
  {
   "cell_type": "markdown",
   "id": "5b850e76",
   "metadata": {
    "papermill": {
     "duration": 0.007043,
     "end_time": "2025-04-04T10:17:06.557572",
     "exception": false,
     "start_time": "2025-04-04T10:17:06.550529",
     "status": "completed"
    },
    "tags": []
   },
   "source": [
    "### Step 4: Model Training"
   ]
  },
  {
   "cell_type": "code",
   "execution_count": 9,
   "id": "515374a5",
   "metadata": {
    "execution": {
     "iopub.execute_input": "2025-04-04T10:17:06.572530Z",
     "iopub.status.busy": "2025-04-04T10:17:06.572068Z",
     "iopub.status.idle": "2025-04-04T10:18:55.480515Z",
     "shell.execute_reply": "2025-04-04T10:18:55.479391Z"
    },
    "papermill": {
     "duration": 108.918337,
     "end_time": "2025-04-04T10:18:55.482606",
     "exception": false,
     "start_time": "2025-04-04T10:17:06.564269",
     "status": "completed"
    },
    "tags": []
   },
   "outputs": [
    {
     "name": "stdout",
     "output_type": "stream",
     "text": [
      "Epoch 1/25\n",
      "\u001b[1m1500/1500\u001b[0m \u001b[32m━━━━━━━━━━━━━━━━━━━━\u001b[0m\u001b[37m\u001b[0m \u001b[1m5s\u001b[0m 3ms/step - accuracy: 0.8662 - loss: 0.4741 - val_accuracy: 0.9559 - val_loss: 0.1555\n",
      "Epoch 2/25\n",
      "\u001b[1m1500/1500\u001b[0m \u001b[32m━━━━━━━━━━━━━━━━━━━━\u001b[0m\u001b[37m\u001b[0m \u001b[1m4s\u001b[0m 3ms/step - accuracy: 0.9603 - loss: 0.1359 - val_accuracy: 0.9675 - val_loss: 0.1134\n",
      "Epoch 3/25\n",
      "\u001b[1m1500/1500\u001b[0m \u001b[32m━━━━━━━━━━━━━━━━━━━━\u001b[0m\u001b[37m\u001b[0m \u001b[1m4s\u001b[0m 3ms/step - accuracy: 0.9712 - loss: 0.0960 - val_accuracy: 0.9706 - val_loss: 0.0998\n",
      "Epoch 4/25\n",
      "\u001b[1m1500/1500\u001b[0m \u001b[32m━━━━━━━━━━━━━━━━━━━━\u001b[0m\u001b[37m\u001b[0m \u001b[1m4s\u001b[0m 3ms/step - accuracy: 0.9811 - loss: 0.0645 - val_accuracy: 0.9696 - val_loss: 0.1028\n",
      "Epoch 5/25\n",
      "\u001b[1m1500/1500\u001b[0m \u001b[32m━━━━━━━━━━━━━━━━━━━━\u001b[0m\u001b[37m\u001b[0m \u001b[1m4s\u001b[0m 3ms/step - accuracy: 0.9848 - loss: 0.0493 - val_accuracy: 0.9719 - val_loss: 0.0973\n",
      "Epoch 6/25\n",
      "\u001b[1m1500/1500\u001b[0m \u001b[32m━━━━━━━━━━━━━━━━━━━━\u001b[0m\u001b[37m\u001b[0m \u001b[1m4s\u001b[0m 3ms/step - accuracy: 0.9886 - loss: 0.0391 - val_accuracy: 0.9714 - val_loss: 0.0997\n",
      "Epoch 7/25\n",
      "\u001b[1m1500/1500\u001b[0m \u001b[32m━━━━━━━━━━━━━━━━━━━━\u001b[0m\u001b[37m\u001b[0m \u001b[1m4s\u001b[0m 3ms/step - accuracy: 0.9918 - loss: 0.0295 - val_accuracy: 0.9722 - val_loss: 0.0969\n",
      "Epoch 8/25\n",
      "\u001b[1m1500/1500\u001b[0m \u001b[32m━━━━━━━━━━━━━━━━━━━━\u001b[0m\u001b[37m\u001b[0m \u001b[1m4s\u001b[0m 3ms/step - accuracy: 0.9931 - loss: 0.0251 - val_accuracy: 0.9757 - val_loss: 0.0891\n",
      "Epoch 9/25\n",
      "\u001b[1m1500/1500\u001b[0m \u001b[32m━━━━━━━━━━━━━━━━━━━━\u001b[0m\u001b[37m\u001b[0m \u001b[1m4s\u001b[0m 3ms/step - accuracy: 0.9947 - loss: 0.0182 - val_accuracy: 0.9760 - val_loss: 0.0923\n",
      "Epoch 10/25\n",
      "\u001b[1m1500/1500\u001b[0m \u001b[32m━━━━━━━━━━━━━━━━━━━━\u001b[0m\u001b[37m\u001b[0m \u001b[1m4s\u001b[0m 3ms/step - accuracy: 0.9959 - loss: 0.0150 - val_accuracy: 0.9764 - val_loss: 0.0963\n",
      "Epoch 11/25\n",
      "\u001b[1m1500/1500\u001b[0m \u001b[32m━━━━━━━━━━━━━━━━━━━━\u001b[0m\u001b[37m\u001b[0m \u001b[1m4s\u001b[0m 3ms/step - accuracy: 0.9967 - loss: 0.0126 - val_accuracy: 0.9724 - val_loss: 0.1087\n",
      "Epoch 12/25\n",
      "\u001b[1m1500/1500\u001b[0m \u001b[32m━━━━━━━━━━━━━━━━━━━━\u001b[0m\u001b[37m\u001b[0m \u001b[1m4s\u001b[0m 3ms/step - accuracy: 0.9978 - loss: 0.0094 - val_accuracy: 0.9742 - val_loss: 0.1087\n",
      "Epoch 13/25\n",
      "\u001b[1m1500/1500\u001b[0m \u001b[32m━━━━━━━━━━━━━━━━━━━━\u001b[0m\u001b[37m\u001b[0m \u001b[1m4s\u001b[0m 3ms/step - accuracy: 0.9972 - loss: 0.0102 - val_accuracy: 0.9729 - val_loss: 0.1145\n",
      "Epoch 14/25\n",
      "\u001b[1m1500/1500\u001b[0m \u001b[32m━━━━━━━━━━━━━━━━━━━━\u001b[0m\u001b[37m\u001b[0m \u001b[1m4s\u001b[0m 3ms/step - accuracy: 0.9970 - loss: 0.0094 - val_accuracy: 0.9763 - val_loss: 0.1053\n",
      "Epoch 15/25\n",
      "\u001b[1m1500/1500\u001b[0m \u001b[32m━━━━━━━━━━━━━━━━━━━━\u001b[0m\u001b[37m\u001b[0m \u001b[1m4s\u001b[0m 3ms/step - accuracy: 0.9981 - loss: 0.0071 - val_accuracy: 0.9771 - val_loss: 0.1061\n",
      "Epoch 16/25\n",
      "\u001b[1m1500/1500\u001b[0m \u001b[32m━━━━━━━━━━━━━━━━━━━━\u001b[0m\u001b[37m\u001b[0m \u001b[1m4s\u001b[0m 3ms/step - accuracy: 0.9978 - loss: 0.0079 - val_accuracy: 0.9773 - val_loss: 0.1176\n",
      "Epoch 17/25\n",
      "\u001b[1m1500/1500\u001b[0m \u001b[32m━━━━━━━━━━━━━━━━━━━━\u001b[0m\u001b[37m\u001b[0m \u001b[1m4s\u001b[0m 3ms/step - accuracy: 0.9985 - loss: 0.0049 - val_accuracy: 0.9743 - val_loss: 0.1213\n",
      "Epoch 18/25\n",
      "\u001b[1m1500/1500\u001b[0m \u001b[32m━━━━━━━━━━━━━━━━━━━━\u001b[0m\u001b[37m\u001b[0m \u001b[1m4s\u001b[0m 3ms/step - accuracy: 0.9979 - loss: 0.0066 - val_accuracy: 0.9772 - val_loss: 0.1144\n",
      "Epoch 19/25\n",
      "\u001b[1m1500/1500\u001b[0m \u001b[32m━━━━━━━━━━━━━━━━━━━━\u001b[0m\u001b[37m\u001b[0m \u001b[1m4s\u001b[0m 3ms/step - accuracy: 0.9986 - loss: 0.0042 - val_accuracy: 0.9776 - val_loss: 0.1283\n",
      "Epoch 20/25\n",
      "\u001b[1m1500/1500\u001b[0m \u001b[32m━━━━━━━━━━━━━━━━━━━━\u001b[0m\u001b[37m\u001b[0m \u001b[1m4s\u001b[0m 3ms/step - accuracy: 0.9988 - loss: 0.0042 - val_accuracy: 0.9721 - val_loss: 0.1525\n",
      "Epoch 21/25\n",
      "\u001b[1m1500/1500\u001b[0m \u001b[32m━━━━━━━━━━━━━━━━━━━━\u001b[0m\u001b[37m\u001b[0m \u001b[1m5s\u001b[0m 3ms/step - accuracy: 0.9985 - loss: 0.0052 - val_accuracy: 0.9778 - val_loss: 0.1216\n",
      "Epoch 22/25\n",
      "\u001b[1m1500/1500\u001b[0m \u001b[32m━━━━━━━━━━━━━━━━━━━━\u001b[0m\u001b[37m\u001b[0m \u001b[1m4s\u001b[0m 3ms/step - accuracy: 0.9995 - loss: 0.0027 - val_accuracy: 0.9757 - val_loss: 0.1343\n",
      "Epoch 23/25\n",
      "\u001b[1m1500/1500\u001b[0m \u001b[32m━━━━━━━━━━━━━━━━━━━━\u001b[0m\u001b[37m\u001b[0m \u001b[1m4s\u001b[0m 3ms/step - accuracy: 0.9990 - loss: 0.0036 - val_accuracy: 0.9781 - val_loss: 0.1196\n",
      "Epoch 24/25\n",
      "\u001b[1m1500/1500\u001b[0m \u001b[32m━━━━━━━━━━━━━━━━━━━━\u001b[0m\u001b[37m\u001b[0m \u001b[1m4s\u001b[0m 3ms/step - accuracy: 0.9983 - loss: 0.0051 - val_accuracy: 0.9756 - val_loss: 0.1462\n",
      "Epoch 25/25\n",
      "\u001b[1m1500/1500\u001b[0m \u001b[32m━━━━━━━━━━━━━━━━━━━━\u001b[0m\u001b[37m\u001b[0m \u001b[1m4s\u001b[0m 3ms/step - accuracy: 0.9994 - loss: 0.0026 - val_accuracy: 0.9792 - val_loss: 0.1281\n"
     ]
    }
   ],
   "source": [
    "history = model.fit(X_train,y_train, epochs=25, validation_split=0.2)"
   ]
  },
  {
   "cell_type": "markdown",
   "id": "17fb94e5",
   "metadata": {
    "papermill": {
     "duration": 0.112658,
     "end_time": "2025-04-04T10:18:55.711005",
     "exception": false,
     "start_time": "2025-04-04T10:18:55.598347",
     "status": "completed"
    },
    "tags": []
   },
   "source": [
    "### Step 5: Model Evaluation"
   ]
  },
  {
   "cell_type": "code",
   "execution_count": 10,
   "id": "017a8086",
   "metadata": {
    "execution": {
     "iopub.execute_input": "2025-04-04T10:18:55.999865Z",
     "iopub.status.busy": "2025-04-04T10:18:55.999424Z",
     "iopub.status.idle": "2025-04-04T10:18:56.727943Z",
     "shell.execute_reply": "2025-04-04T10:18:56.726829Z"
    },
    "papermill": {
     "duration": 0.905106,
     "end_time": "2025-04-04T10:18:56.729692",
     "exception": false,
     "start_time": "2025-04-04T10:18:55.824586",
     "status": "completed"
    },
    "tags": []
   },
   "outputs": [
    {
     "name": "stdout",
     "output_type": "stream",
     "text": [
      "\u001b[1m313/313\u001b[0m \u001b[32m━━━━━━━━━━━━━━━━━━━━\u001b[0m\u001b[37m\u001b[0m \u001b[1m0s\u001b[0m 1ms/step\n"
     ]
    },
    {
     "data": {
      "text/plain": [
       "array([[9.8331028e-16, 1.6863971e-15, 4.8361478e-11, ..., 9.9999994e-01,\n",
       "        2.0259600e-14, 3.6411043e-09],\n",
       "       [3.4278997e-17, 1.7254913e-10, 9.9999994e-01, ..., 1.7137989e-28,\n",
       "        8.0430085e-10, 1.6677900e-26],\n",
       "       [6.1398747e-10, 9.9997669e-01, 3.0954320e-07, ..., 2.4611128e-07,\n",
       "        2.2679604e-05, 1.0684214e-12],\n",
       "       ...,\n",
       "       [2.1140602e-32, 7.0250683e-24, 4.1499874e-26, ..., 1.6995005e-15,\n",
       "        6.1665352e-12, 1.1292967e-08],\n",
       "       [7.6791223e-23, 2.3508255e-23, 4.9585080e-22, ..., 3.9732260e-21,\n",
       "        1.6717992e-08, 1.7075265e-22],\n",
       "       [4.0613746e-19, 4.7506257e-24, 7.6952774e-16, ..., 1.8213324e-28,\n",
       "        1.3937091e-18, 1.7678225e-21]], dtype=float32)"
      ]
     },
     "execution_count": 10,
     "metadata": {},
     "output_type": "execute_result"
    }
   ],
   "source": [
    "y_prob = model.predict(X_test)\n",
    "y_prob"
   ]
  },
  {
   "cell_type": "code",
   "execution_count": 11,
   "id": "57ab78b4",
   "metadata": {
    "execution": {
     "iopub.execute_input": "2025-04-04T10:18:56.957555Z",
     "iopub.status.busy": "2025-04-04T10:18:56.957129Z",
     "iopub.status.idle": "2025-04-04T10:18:56.964078Z",
     "shell.execute_reply": "2025-04-04T10:18:56.962968Z"
    },
    "papermill": {
     "duration": 0.121862,
     "end_time": "2025-04-04T10:18:56.965781",
     "exception": false,
     "start_time": "2025-04-04T10:18:56.843919",
     "status": "completed"
    },
    "tags": []
   },
   "outputs": [
    {
     "data": {
      "text/plain": [
       "array([7, 2, 1, ..., 4, 5, 6])"
      ]
     },
     "execution_count": 11,
     "metadata": {},
     "output_type": "execute_result"
    }
   ],
   "source": [
    "y_pred = y_prob.argmax(axis=1)\n",
    "y_pred"
   ]
  },
  {
   "cell_type": "code",
   "execution_count": 12,
   "id": "dc5008c9",
   "metadata": {
    "execution": {
     "iopub.execute_input": "2025-04-04T10:18:57.194367Z",
     "iopub.status.busy": "2025-04-04T10:18:57.193993Z",
     "iopub.status.idle": "2025-04-04T10:18:58.453731Z",
     "shell.execute_reply": "2025-04-04T10:18:58.452267Z"
    },
    "papermill": {
     "duration": 1.376572,
     "end_time": "2025-04-04T10:18:58.455816",
     "exception": false,
     "start_time": "2025-04-04T10:18:57.079244",
     "status": "completed"
    },
    "tags": []
   },
   "outputs": [
    {
     "data": {
      "text/plain": [
       "0.9794"
      ]
     },
     "execution_count": 12,
     "metadata": {},
     "output_type": "execute_result"
    }
   ],
   "source": [
    "from sklearn.metrics import accuracy_score\n",
    "accuracy_score(y_test,y_pred)"
   ]
  },
  {
   "cell_type": "code",
   "execution_count": 13,
   "id": "04364b9d",
   "metadata": {
    "execution": {
     "iopub.execute_input": "2025-04-04T10:18:58.707432Z",
     "iopub.status.busy": "2025-04-04T10:18:58.706495Z",
     "iopub.status.idle": "2025-04-04T10:18:58.712861Z",
     "shell.execute_reply": "2025-04-04T10:18:58.711690Z"
    },
    "papermill": {
     "duration": 0.128217,
     "end_time": "2025-04-04T10:18:58.714479",
     "exception": false,
     "start_time": "2025-04-04T10:18:58.586262",
     "status": "completed"
    },
    "tags": []
   },
   "outputs": [
    {
     "data": {
      "text/plain": [
       "dict_keys(['accuracy', 'loss', 'val_accuracy', 'val_loss'])"
      ]
     },
     "execution_count": 13,
     "metadata": {},
     "output_type": "execute_result"
    }
   ],
   "source": [
    "history.history.keys()"
   ]
  },
  {
   "cell_type": "code",
   "execution_count": 14,
   "id": "ea526114",
   "metadata": {
    "execution": {
     "iopub.execute_input": "2025-04-04T10:18:58.944655Z",
     "iopub.status.busy": "2025-04-04T10:18:58.944191Z",
     "iopub.status.idle": "2025-04-04T10:18:59.808986Z",
     "shell.execute_reply": "2025-04-04T10:18:59.807896Z"
    },
    "papermill": {
     "duration": 0.983131,
     "end_time": "2025-04-04T10:18:59.810875",
     "exception": false,
     "start_time": "2025-04-04T10:18:58.827744",
     "status": "completed"
    },
    "tags": []
   },
   "outputs": [
    {
     "data": {
      "text/plain": [
       "<Axes: >"
      ]
     },
     "execution_count": 14,
     "metadata": {},
     "output_type": "execute_result"
    },
    {
     "data": {
      "image/png": "[encoded data removed]",
      "text/plain": [
       "<Figure size 640x480 with 1 Axes>"
      ]
     },
     "metadata": {},
     "output_type": "display_data"
    }
   ],
   "source": [
    "import warnings\n",
    "warnings.filterwarnings('ignore')\n",
    "import seaborn as sns\n",
    "sns.lineplot(history.history['loss'], label=\"training_loss\")\n",
    "sns.lineplot(history.history['val_loss'], label=\"val_loss\")\n",
    "# Overfitting: Performing well on training data but validation data."
   ]
  },
  {
   "cell_type": "code",
   "execution_count": 15,
   "id": "115227d4",
   "metadata": {
    "execution": {
     "iopub.execute_input": "2025-04-04T10:19:00.045305Z",
     "iopub.status.busy": "2025-04-04T10:19:00.044623Z",
     "iopub.status.idle": "2025-04-04T10:19:00.334396Z",
     "shell.execute_reply": "2025-04-04T10:19:00.333175Z"
    },
    "papermill": {
     "duration": 0.408752,
     "end_time": "2025-04-04T10:19:00.336187",
     "exception": false,
     "start_time": "2025-04-04T10:18:59.927435",
     "status": "completed"
    },
    "tags": []
   },
   "outputs": [
    {
     "data": {
      "text/plain": [
       "<Axes: >"
      ]
     },
     "execution_count": 15,
     "metadata": {},
     "output_type": "execute_result"
    },
    {
     "data": {
      "image/png": "[encoded data removed]",
      "text/plain": [
       "<Figure size 640x480 with 1 Axes>"
      ]
     },
     "metadata": {},
     "output_type": "display_data"
    }
   ],
   "source": [
    "sns.lineplot(history.history['accuracy'],label='training_accuracy')\n",
    "sns.lineplot(history.history['val_accuracy'],label='val_accuracy')"
   ]
  },
  {
   "cell_type": "code",
   "execution_count": 16,
   "id": "4ddea861",
   "metadata": {
    "execution": {
     "iopub.execute_input": "2025-04-04T10:19:00.567046Z",
     "iopub.status.busy": "2025-04-04T10:19:00.566688Z",
     "iopub.status.idle": "2025-04-04T10:19:00.759400Z",
     "shell.execute_reply": "2025-04-04T10:19:00.758301Z"
    },
    "papermill": {
     "duration": 0.309356,
     "end_time": "2025-04-04T10:19:00.761109",
     "exception": false,
     "start_time": "2025-04-04T10:19:00.451753",
     "status": "completed"
    },
    "tags": []
   },
   "outputs": [
    {
     "data": {
      "text/plain": [
       "<matplotlib.image.AxesImage at 0x78673d43b730>"
      ]
     },
     "execution_count": 16,
     "metadata": {},
     "output_type": "execute_result"
    },
    {
     "data": {
      "image/png": "[encoded data removed]",
      "text/plain": [
       "<Figure size 640x480 with 1 Axes>"
      ]
     },
     "metadata": {},
     "output_type": "display_data"
    }
   ],
   "source": [
    "plt.imshow(X_test[0])"
   ]
  },
  {
   "cell_type": "code",
   "execution_count": 17,
   "id": "5e4bfd47",
   "metadata": {
    "execution": {
     "iopub.execute_input": "2025-04-04T10:19:00.995019Z",
     "iopub.status.busy": "2025-04-04T10:19:00.994647Z",
     "iopub.status.idle": "2025-04-04T10:19:01.075058Z",
     "shell.execute_reply": "2025-04-04T10:19:01.073916Z"
    },
    "papermill": {
     "duration": 0.19849,
     "end_time": "2025-04-04T10:19:01.076786",
     "exception": false,
     "start_time": "2025-04-04T10:19:00.878296",
     "status": "completed"
    },
    "tags": []
   },
   "outputs": [
    {
     "name": "stdout",
     "output_type": "stream",
     "text": [
      "\u001b[1m1/1\u001b[0m \u001b[32m━━━━━━━━━━━━━━━━━━━━\u001b[0m\u001b[37m\u001b[0m \u001b[1m0s\u001b[0m 22ms/step\n"
     ]
    },
    {
     "data": {
      "text/plain": [
       "7"
      ]
     },
     "execution_count": 17,
     "metadata": {},
     "output_type": "execute_result"
    }
   ],
   "source": [
    "model.predict(X_test[0].reshape(1,28,28)).argmax(axis=-1)[0]"
   ]
  }
 ],
 "metadata": {
  "kaggle": {
   "accelerator": "none",
   "dataSources": [],
   "dockerImageVersionId": 30918,
   "isGpuEnabled": false,
   "isInternetEnabled": true,
   "language": "python",
   "sourceType": "notebook"
  },
  "kernelspec": {
   "display_name": "Python 3",
   "language": "python",
   "name": "python3"
  },
  "language_info": {
   "codemirror_mode": {
    "name": "ipython",
    "version": 3
   },
   "file_extension": ".py",
   "mimetype": "text/x-python",
   "name": "python",
   "nbconvert_exporter": "python",
   "pygments_lexer": "ipython3",
   "version": "3.10.12"
  },
  "papermill": {
   "default_parameters": {},
   "duration": 142.725795,
   "end_time": "2025-04-04T10:19:03.589238",
   "environment_variables": {},
   "exception": null,
   "input_path": "__notebook__.ipynb",
   "output_path": "__notebook__.ipynb",
   "parameters": {},
   "start_time": "2025-04-04T10:16:40.863443",
   "version": "2.6.0"
  }
 },
 "nbformat": 4,
 "nbformat_minor": 5
}
