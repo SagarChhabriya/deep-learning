{
 "cells": [
  {
   "cell_type": "markdown",
   "metadata": {},
   "source": [
    "# Data Scaling\n",
    "- Standardization: Mean Centering, mean=0, and std=1, min_value=-1, max_value=1 ---> Unit Circle\n",
    "- Normalization: Unit Box, min_value = 0, max_value = 1\n",
    "\n",
    "Apply normalization when you know the min and max of the column for example cgpa 0-10.\n",
    "Apply normalization when you don't know the min and max of the column for example salary. Also when the pdf is normally distributed"
   ]
  }
 ],
 "metadata": {
  "kernelspec": {
   "display_name": "Python 3.13.2 64-bit",
   "language": "python",
   "name": "python3"
  },
  "language_info": {
   "name": "python",
   "version": "3.13.2"
  },
  "orig_nbformat": 4,
  "vscode": {
   "interpreter": {
    "hash": "cfcb51ba6a5898a96229f8cdebac4678b232c747c5fc819b474621f23ba7f45c"
   }
  }
 },
 "nbformat": 4,
 "nbformat_minor": 2
}
